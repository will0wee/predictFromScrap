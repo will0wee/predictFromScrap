{
 "cells": [
  {
   "cell_type": "code",
   "execution_count": 5,
   "metadata": {},
   "outputs": [],
   "source": [
    "import requests\n",
    "from bs4 import BeautifulSoup\n",
    "import pandas as pd\n",
    "\n",
    "tableRioTrain = []\n",
    "tableRioTest = []\n",
    "    \n",
    "def scrapperMaPage(soup):\n",
    "    compteur = 0\n",
    "    for location in soup.find_all('tr'):\n",
    "        if ('faction--horde' in location['class'] or 'faction--alliance' in location['class'] ) and 'mythic-plus-rankings--row' in location['class']:\n",
    "            compteur +=1\n",
    "            tableData = {}\n",
    "            if 'faction--horde' in location['class']:\n",
    "                tableData['faction'] = 'Horde'\n",
    "            else:\n",
    "                tableData['faction'] = 'Alliance'\n",
    "            try:\n",
    "                tableData['Nom'] = location.select('td')[1].select('div > div > h3 > a')[0].text\n",
    "                localGame = location.select('td')[1].select('div > div > div > a')[0].text\n",
    "                tableData['Score'] = location.select('td')[3].select('a')[0].text\n",
    "\n",
    "                tableData['Continent'] = localGame[1:3]\n",
    "                tableData['Serveur'] = localGame[4:]\n",
    "\n",
    "                tableData['cle'] = []\n",
    "                for cle in location.select('td')[2].select('div'):\n",
    "                    if 'rio-dungeonrow-level' in cle['class']:\n",
    "                        tableData['cle'].append(cle.text[1:])\n",
    "            except :\n",
    "                continue\n",
    "            \n",
    "            if(compteur == 1):\n",
    "                tableRioTest.append(tableData)\n",
    "            else : \n",
    "                tableRioTrain.append(tableData)\n",
    "            \n",
    "for i in range(0, 50):\n",
    "    url='https://raider.io/mythic-plus-spec-rankings/season-bfa-4/world/shaman/restoration/'+str(i)+'#content' #'_'+cle\n",
    "    r = requests.get(url)\n",
    "    soup = BeautifulSoup(r.content)\n",
    "    scrapperMaPage(soup)\n"
   ]
  },
  {
   "cell_type": "code",
   "execution_count": 18,
   "metadata": {},
   "outputs": [],
   "source": [
    "df=pd.DataFrame()\n",
    "tmp=[]\n",
    "for index, elem in enumerate(tableRioTrain):\n",
    "    for scoreCle in elem['cle']:\n",
    "        Df = pd.DataFrame.from_dict(elem, orient='index').T\n",
    "        Df['cle'] = scoreCle\n",
    "        Df.index=[index+1]\n",
    "        tmp.append(Df)\n",
    "dfRioTrain = df.append(pd.concat(tmp))"
   ]
  },
  {
   "cell_type": "code",
   "execution_count": 25,
   "metadata": {},
   "outputs": [],
   "source": [
    "df=pd.DataFrame()\n",
    "tmp=[]\n",
    "for index, elem in enumerate(tableRioTest):\n",
    "    for scoreCle in elem['cle']:\n",
    "        Df = pd.DataFrame.from_dict(elem, orient='index').T\n",
    "        Df['cle'] = scoreCle\n",
    "        Df.index=[index+1]\n",
    "        tmp.append(Df)\n",
    "dfRioTest = df.append(pd.concat(tmp))"
   ]
  },
  {
   "cell_type": "code",
   "execution_count": 19,
   "metadata": {},
   "outputs": [],
   "source": [
    "dfRioTrain.drop('faction', inplace=True, axis=1)\n",
    "dfRioTrain.drop('Nom', inplace=True, axis=1)\n",
    "dfRioTrain.drop('Continent', inplace=True, axis=1)\n",
    "dfRioTrain.drop('Serveur', inplace=True, axis=1)\n"
   ]
  },
  {
   "cell_type": "code",
   "execution_count": 29,
   "metadata": {},
   "outputs": [
    {
     "name": "stdout",
     "output_type": "stream",
     "text": [
      "<class 'pandas.core.frame.DataFrame'>\n",
      "Int64Index: 600 entries, 1 to 50\n",
      "Data columns (total 6 columns):\n",
      " #   Column     Non-Null Count  Dtype \n",
      "---  ------     --------------  ----- \n",
      " 0   faction    600 non-null    object\n",
      " 1   Nom        600 non-null    object\n",
      " 2   Score      600 non-null    object\n",
      " 3   Continent  600 non-null    object\n",
      " 4   Serveur    600 non-null    object\n",
      " 5   cle        600 non-null    object\n",
      "dtypes: object(6)\n",
      "memory usage: 32.8+ KB\n"
     ]
    }
   ],
   "source": [
    "dfRioTest.info()"
   ]
  },
  {
   "cell_type": "code",
   "execution_count": 42,
   "metadata": {},
   "outputs": [],
   "source": [
    "import numpy as np\n",
    "from sklearn.linear_model import LinearRegression\n",
    "\n",
    "from sklearn.ensemble import RandomForestRegressor\n",
    "from sklearn.datasets import make_regression\n",
    "from sklearn.metrics import mean_squared_error\n",
    "\n",
    "import math\n",
    "\n",
    "import seaborn as sns; sns.set()\n",
    "import numpy as np\n",
    "from itertools import cycle\n",
    "\n",
    "from sklearn.cluster import KMeans"
   ]
  },
  {
   "cell_type": "code",
   "execution_count": 21,
   "metadata": {},
   "outputs": [
    {
     "data": {
      "text/plain": [
       "0.7536564478497341"
      ]
     },
     "execution_count": 21,
     "metadata": {},
     "output_type": "execute_result"
    }
   ],
   "source": [
    "\n",
    "X=dfRioTrain[['Score','cle']]\n",
    "y=X['Score'].copy()\n",
    "del X['Score']\n",
    "#reg = LinearRegression(normalize=True,fit_intercept=True).fit(X, y)\n",
    "reg_test = RandomForestRegressor(max_depth=14,n_estimators=50, random_state=0).fit(X, y)\n",
    "reg_test.score(X, y)"
   ]
  },
  {
   "cell_type": "code",
   "execution_count": 46,
   "metadata": {},
   "outputs": [
    {
     "data": {
      "text/plain": [
       "<matplotlib.collections.PathCollection at 0x2a01e98ee80>"
      ]
     },
     "execution_count": 46,
     "metadata": {},
     "output_type": "execute_result"
    },
    {
     "data": {
      "image/png": "[encoded data removed]",
      "text/plain": [
       "<Figure size 432x288 with 1 Axes>"
      ]
     },
     "metadata": {
      "needs_background": "light"
     },
     "output_type": "display_data"
    }
   ],
   "source": [
    "%matplotlib inline\n",
    "\n",
    "import matplotlib.pyplot as plt\n",
    "\n",
    "plt.scatter(dfRioTrain['Score'].astype(float),dfRioTrain['cle'], color='green')"
   ]
  },
  {
   "cell_type": "code",
   "execution_count": 35,
   "metadata": {},
   "outputs": [
    {
     "data": {
      "text/plain": [
       "68778.01141514239"
      ]
     },
     "execution_count": 35,
     "metadata": {},
     "output_type": "execute_result"
    }
   ],
   "source": [
    "predictions = reg_test.predict(dfRioTest[['cle']])\n",
    "result = mean_squared_error(dfRioTest['Score'], predictions)\n",
    "result"
   ]
  },
  {
   "cell_type": "code",
   "execution_count": 39,
   "metadata": {},
   "outputs": [
    {
     "data": {
      "text/plain": [
       "262.25562227556225"
      ]
     },
     "execution_count": 39,
     "metadata": {},
     "output_type": "execute_result"
    }
   ],
   "source": [
    "\n",
    "math.sqrt(result)"
   ]
  },
  {
   "cell_type": "code",
   "execution_count": 47,
   "metadata": {},
   "outputs": [],
   "source": [
    "kmean= KMeans(init= 'random' , n_clusters= 5 , max_iter= 5000 ,n_init= 1500 )\n",
    "cluster = kmean.fit(dfRioTrain)\n",
    "c=cluster.labels_\n",
    "centers = kmean.cluster_centers_"
   ]
  },
  {
   "cell_type": "code",
   "execution_count": 48,
   "metadata": {},
   "outputs": [
    {
     "data": {
      "text/plain": [
       "<matplotlib.collections.PathCollection at 0x2a01e120700>"
      ]
     },
     "execution_count": 48,
     "metadata": {},
     "output_type": "execute_result"
    },
    {
     "data": {
      "image/png": "[encoded data removed]",
      "text/plain": [
       "<Figure size 432x288 with 1 Axes>"
      ]
     },
     "metadata": {
      "needs_background": "light"
     },
     "output_type": "display_data"
    }
   ],
   "source": [
    "LABEL_COLOR_MAP = {0 : 'green', 1 : 'blue', 2 : 'red', 3 : 'purple', 4 : 'yellow', 5 : 'pink'}\n",
    "label_color = [LABEL_COLOR_MAP[l] for l in c]\n",
    "\n",
    "plt.scatter(dfRioTrain['Score'].astype(float),dfRioTrain['cle'], c=label_color)"
   ]
  },
  {
   "cell_type": "code",
   "execution_count": null,
   "metadata": {},
   "outputs": [],
   "source": []
  }
 ],
 "metadata": {
  "kernelspec": {
   "display_name": "Python 3",
   "language": "python",
   "name": "python3"
  },
  "language_info": {
   "codemirror_mode": {
    "name": "ipython",
    "version": 3
   },
   "file_extension": ".py",
   "mimetype": "text/x-python",
   "name": "python",
   "nbconvert_exporter": "python",
   "pygments_lexer": "ipython3",
   "version": "3.8.3"
  }
 },
 "nbformat": 4,
 "nbformat_minor": 4
}
